{
 "cells": [
  {
   "cell_type": "code",
   "execution_count": 1,
   "metadata": {},
   "outputs": [],
   "source": [
    "#importing data\n",
    "import pandas as pd\n",
    "import numpy as np\n",
    "from datetime import datetime, timedelta \n",
    "import matplotlib.pyplot as plt"
   ]
  },
  {
   "cell_type": "code",
   "execution_count": 2,
   "metadata": {},
   "outputs": [],
   "source": [
    "#reading data\n",
    "df=pd.read_csv(\"C:\\\\Users\\\\Deepanshu Dutta\\\\datascience\\\\work\\\\data\\\\order_details_20thNov.csv\")"
   ]
  },
  {
   "cell_type": "markdown",
   "metadata": {},
   "source": [
    "## basic EDA"
   ]
  },
  {
   "cell_type": "code",
   "execution_count": 3,
   "metadata": {},
   "outputs": [
    {
     "data": {
      "text/plain": [
       "(1457, 29)"
      ]
     },
     "execution_count": 3,
     "metadata": {},
     "output_type": "execute_result"
    }
   ],
   "source": [
    "#shape of the data\n",
    "df.shape"
   ]
  },
  {
   "cell_type": "code",
   "execution_count": 4,
   "metadata": {},
   "outputs": [
    {
     "data": {
      "text/plain": [
       "Index(['_id__$oid', 'last_modified__$date', 'delivery_lat',\n",
       "       'assigned_delivery_boy_id', 'trash', 'created_at__$date',\n",
       "       'delivery_lon', 'outlet_id', 'order_status', 'status', 'order_id',\n",
       "       'order_status_id', 'preparation_time', 'committed_time', 'eta',\n",
       "       'time_of_delivery', 'arrival_time_duration',\n",
       "       'delivery_boy_assigning_time__$date', 'actual_preparaed_time',\n",
       "       'pickup_time', 'approve_time', 'reaching_time__$date',\n",
       "       'arrival_time__$date', 'outlet_distance_from_delivery_person',\n",
       "       'assigning_lat_lon__001', 'assigning_lat_lon__002',\n",
       "       'destination_km_distance', 'destination_journey_duration',\n",
       "       'total_distance_travel_for_delivery'],\n",
       "      dtype='object')"
      ]
     },
     "execution_count": 4,
     "metadata": {},
     "output_type": "execute_result"
    }
   ],
   "source": [
    "df.columns"
   ]
  },
  {
   "cell_type": "code",
   "execution_count": 5,
   "metadata": {},
   "outputs": [
    {
     "data": {
      "text/plain": [
       "_id__$oid                                object\n",
       "last_modified__$date                     object\n",
       "delivery_lat                            float64\n",
       "assigned_delivery_boy_id                 object\n",
       "trash                                     int64\n",
       "created_at__$date                        object\n",
       "delivery_lon                            float64\n",
       "outlet_id                                 int64\n",
       "order_status                             object\n",
       "status                                   object\n",
       "order_id                                  int64\n",
       "order_status_id                         float64\n",
       "preparation_time                         object\n",
       "committed_time                           object\n",
       "eta                                      object\n",
       "time_of_delivery                         object\n",
       "arrival_time_duration                    object\n",
       "delivery_boy_assigning_time__$date       object\n",
       "actual_preparaed_time                    object\n",
       "pickup_time                              object\n",
       "approve_time                             object\n",
       "reaching_time__$date                     object\n",
       "arrival_time__$date                      object\n",
       "outlet_distance_from_delivery_person     object\n",
       "assigning_lat_lon__001                  float64\n",
       "assigning_lat_lon__002                  float64\n",
       "destination_km_distance                  object\n",
       "destination_journey_duration             object\n",
       "total_distance_travel_for_delivery       object\n",
       "dtype: object"
      ]
     },
     "execution_count": 5,
     "metadata": {},
     "output_type": "execute_result"
    }
   ],
   "source": [
    "df.dtypes"
   ]
  },
  {
   "cell_type": "code",
   "execution_count": 6,
   "metadata": {},
   "outputs": [
    {
     "name": "stdout",
     "output_type": "stream",
     "text": [
      "Missing values present :  16698\n"
     ]
    }
   ],
   "source": [
    "#Checking the presence of missing values\n",
    "val = df.isnull().values.any()\n",
    "if val == True :\n",
    "    print(\"Missing values present : \", df.isnull().values.sum() )\n",
    "else:\n",
    "    print(\"No missing values Present\")"
   ]
  },
  {
   "cell_type": "code",
   "execution_count": 7,
   "metadata": {},
   "outputs": [
    {
     "data": {
      "text/plain": [
       "_id__$oid                                object\n",
       "last_modified__$date                     object\n",
       "delivery_lat                            float64\n",
       "assigned_delivery_boy_id                 object\n",
       "trash                                     int64\n",
       "created_at__$date                        object\n",
       "delivery_lon                            float64\n",
       "outlet_id                                 int64\n",
       "order_status                             object\n",
       "status                                   object\n",
       "order_id                                  int64\n",
       "order_status_id                         float64\n",
       "preparation_time                         object\n",
       "committed_time                           object\n",
       "eta                                      object\n",
       "time_of_delivery                         object\n",
       "arrival_time_duration                    object\n",
       "delivery_boy_assigning_time__$date       object\n",
       "actual_preparaed_time                    object\n",
       "pickup_time                              object\n",
       "approve_time                             object\n",
       "reaching_time__$date                     object\n",
       "arrival_time__$date                      object\n",
       "outlet_distance_from_delivery_person     object\n",
       "assigning_lat_lon__001                  float64\n",
       "assigning_lat_lon__002                  float64\n",
       "destination_km_distance                  object\n",
       "destination_journey_duration             object\n",
       "total_distance_travel_for_delivery       object\n",
       "dtype: object"
      ]
     },
     "execution_count": 7,
     "metadata": {},
     "output_type": "execute_result"
    }
   ],
   "source": [
    "df.dtypes"
   ]
  },
  {
   "cell_type": "code",
   "execution_count": 8,
   "metadata": {},
   "outputs": [
    {
     "data": {
      "text/plain": [
       "_id__$oid                                  0\n",
       "last_modified__$date                       0\n",
       "delivery_lat                               0\n",
       "assigned_delivery_boy_id                   4\n",
       "trash                                      0\n",
       "created_at__$date                          0\n",
       "delivery_lon                               0\n",
       "outlet_id                                  0\n",
       "order_status                               5\n",
       "status                                     0\n",
       "order_id                                   0\n",
       "order_status_id                            5\n",
       "preparation_time                           7\n",
       "committed_time                           899\n",
       "eta                                      899\n",
       "time_of_delivery                        1043\n",
       "arrival_time_duration                    901\n",
       "delivery_boy_assigning_time__$date       917\n",
       "actual_preparaed_time                    951\n",
       "pickup_time                             1036\n",
       "approve_time                             948\n",
       "reaching_time__$date                    1132\n",
       "arrival_time__$date                     1151\n",
       "outlet_distance_from_delivery_person    1129\n",
       "assigning_lat_lon__001                  1130\n",
       "assigning_lat_lon__002                  1130\n",
       "destination_km_distance                 1137\n",
       "destination_journey_duration            1137\n",
       "total_distance_travel_for_delivery      1137\n",
       "dtype: int64"
      ]
     },
     "execution_count": 8,
     "metadata": {},
     "output_type": "execute_result"
    }
   ],
   "source": [
    "#missing values by columns\n",
    "df.isnull().sum()"
   ]
  },
  {
   "cell_type": "code",
   "execution_count": 9,
   "metadata": {},
   "outputs": [
    {
     "data": {
      "text/plain": [
       "New                      892\n",
       "delivery boy assigned    565\n",
       "Name: status, dtype: int64"
      ]
     },
     "execution_count": 9,
     "metadata": {},
     "output_type": "execute_result"
    }
   ],
   "source": [
    "#sample data\n",
    "#df.head(10)\n",
    "df.status.value_counts()"
   ]
  },
  {
   "cell_type": "code",
   "execution_count": 10,
   "metadata": {},
   "outputs": [
    {
     "data": {
      "text/html": [
       "<div>\n",
       "<style scoped>\n",
       "    .dataframe tbody tr th:only-of-type {\n",
       "        vertical-align: middle;\n",
       "    }\n",
       "\n",
       "    .dataframe tbody tr th {\n",
       "        vertical-align: top;\n",
       "    }\n",
       "\n",
       "    .dataframe thead th {\n",
       "        text-align: right;\n",
       "    }\n",
       "</style>\n",
       "<table border=\"1\" class=\"dataframe\">\n",
       "  <thead>\n",
       "    <tr style=\"text-align: right;\">\n",
       "      <th></th>\n",
       "      <th>_id__$oid</th>\n",
       "      <th>last_modified__$date</th>\n",
       "      <th>delivery_lat</th>\n",
       "      <th>assigned_delivery_boy_id</th>\n",
       "      <th>trash</th>\n",
       "      <th>created_at__$date</th>\n",
       "      <th>delivery_lon</th>\n",
       "      <th>outlet_id</th>\n",
       "      <th>order_status</th>\n",
       "      <th>status</th>\n",
       "      <th>...</th>\n",
       "      <th>pickup_time</th>\n",
       "      <th>approve_time</th>\n",
       "      <th>reaching_time__$date</th>\n",
       "      <th>arrival_time__$date</th>\n",
       "      <th>outlet_distance_from_delivery_person</th>\n",
       "      <th>assigning_lat_lon__001</th>\n",
       "      <th>assigning_lat_lon__002</th>\n",
       "      <th>destination_km_distance</th>\n",
       "      <th>destination_journey_duration</th>\n",
       "      <th>total_distance_travel_for_delivery</th>\n",
       "    </tr>\n",
       "  </thead>\n",
       "  <tbody>\n",
       "    <tr>\n",
       "      <th>0</th>\n",
       "      <td>5f2549e3d1dfb3348735a34d</td>\n",
       "      <td>2020-08-01 11:49:07.775000+00:00</td>\n",
       "      <td>22.485330</td>\n",
       "      <td>21</td>\n",
       "      <td>0</td>\n",
       "      <td>2020-08-01T10:54:27.698Z</td>\n",
       "      <td>88.326968</td>\n",
       "      <td>9</td>\n",
       "      <td>delivered</td>\n",
       "      <td>delivery boy assigned</td>\n",
       "      <td>...</td>\n",
       "      <td>NaN</td>\n",
       "      <td>NaN</td>\n",
       "      <td>NaN</td>\n",
       "      <td>NaN</td>\n",
       "      <td>NaN</td>\n",
       "      <td>NaN</td>\n",
       "      <td>NaN</td>\n",
       "      <td>NaN</td>\n",
       "      <td>NaN</td>\n",
       "      <td>NaN</td>\n",
       "    </tr>\n",
       "    <tr>\n",
       "      <th>1</th>\n",
       "      <td>5f24f749e63cb52d5f17df46</td>\n",
       "      <td>2020-08-01 05:07:38.903000+00:00</td>\n",
       "      <td>22.585257</td>\n",
       "      <td>1</td>\n",
       "      <td>0</td>\n",
       "      <td>2020-08-01T05:02:01.993Z</td>\n",
       "      <td>88.422437</td>\n",
       "      <td>3</td>\n",
       "      <td>delivered</td>\n",
       "      <td>delivery boy assigned</td>\n",
       "      <td>...</td>\n",
       "      <td>NaN</td>\n",
       "      <td>NaN</td>\n",
       "      <td>NaN</td>\n",
       "      <td>NaN</td>\n",
       "      <td>NaN</td>\n",
       "      <td>NaN</td>\n",
       "      <td>NaN</td>\n",
       "      <td>NaN</td>\n",
       "      <td>NaN</td>\n",
       "      <td>NaN</td>\n",
       "    </tr>\n",
       "    <tr>\n",
       "      <th>2</th>\n",
       "      <td>5f25372956c63423201653f7</td>\n",
       "      <td>2020-08-01 10:40:21.208000+00:00</td>\n",
       "      <td>22.492368</td>\n",
       "      <td>21</td>\n",
       "      <td>1</td>\n",
       "      <td>2020-08-01T09:34:33.451Z</td>\n",
       "      <td>88.280596</td>\n",
       "      <td>7</td>\n",
       "      <td>NaN</td>\n",
       "      <td>delivery boy assigned</td>\n",
       "      <td>...</td>\n",
       "      <td>NaN</td>\n",
       "      <td>NaN</td>\n",
       "      <td>NaN</td>\n",
       "      <td>NaN</td>\n",
       "      <td>NaN</td>\n",
       "      <td>NaN</td>\n",
       "      <td>NaN</td>\n",
       "      <td>NaN</td>\n",
       "      <td>NaN</td>\n",
       "      <td>NaN</td>\n",
       "    </tr>\n",
       "    <tr>\n",
       "      <th>3</th>\n",
       "      <td>5f257163d97253b6141c6471</td>\n",
       "      <td>2020-08-01 15:28:58.058000+00:00</td>\n",
       "      <td>22.509654</td>\n",
       "      <td>24</td>\n",
       "      <td>0</td>\n",
       "      <td>2020-08-01T13:42:59.337Z</td>\n",
       "      <td>88.309393</td>\n",
       "      <td>7</td>\n",
       "      <td>delivered</td>\n",
       "      <td>delivery boy assigned</td>\n",
       "      <td>...</td>\n",
       "      <td>NaN</td>\n",
       "      <td>NaN</td>\n",
       "      <td>NaN</td>\n",
       "      <td>NaN</td>\n",
       "      <td>NaN</td>\n",
       "      <td>NaN</td>\n",
       "      <td>NaN</td>\n",
       "      <td>NaN</td>\n",
       "      <td>NaN</td>\n",
       "      <td>NaN</td>\n",
       "    </tr>\n",
       "    <tr>\n",
       "      <th>4</th>\n",
       "      <td>5f25dc1f5ed457c026f875d9</td>\n",
       "      <td>2020-08-01 21:21:30.505000+00:00</td>\n",
       "      <td>22.585755</td>\n",
       "      <td>10</td>\n",
       "      <td>0</td>\n",
       "      <td>2020-08-01T21:18:23.947Z</td>\n",
       "      <td>88.421285</td>\n",
       "      <td>3</td>\n",
       "      <td>delivered</td>\n",
       "      <td>delivery boy assigned</td>\n",
       "      <td>...</td>\n",
       "      <td>NaN</td>\n",
       "      <td>NaN</td>\n",
       "      <td>NaN</td>\n",
       "      <td>NaN</td>\n",
       "      <td>NaN</td>\n",
       "      <td>NaN</td>\n",
       "      <td>NaN</td>\n",
       "      <td>NaN</td>\n",
       "      <td>NaN</td>\n",
       "      <td>NaN</td>\n",
       "    </tr>\n",
       "  </tbody>\n",
       "</table>\n",
       "<p>5 rows × 29 columns</p>\n",
       "</div>"
      ],
      "text/plain": [
       "                  _id__$oid             last_modified__$date  delivery_lat  \\\n",
       "0  5f2549e3d1dfb3348735a34d 2020-08-01 11:49:07.775000+00:00     22.485330   \n",
       "1  5f24f749e63cb52d5f17df46 2020-08-01 05:07:38.903000+00:00     22.585257   \n",
       "2  5f25372956c63423201653f7 2020-08-01 10:40:21.208000+00:00     22.492368   \n",
       "3  5f257163d97253b6141c6471 2020-08-01 15:28:58.058000+00:00     22.509654   \n",
       "4  5f25dc1f5ed457c026f875d9 2020-08-01 21:21:30.505000+00:00     22.585755   \n",
       "\n",
       "  assigned_delivery_boy_id  trash         created_at__$date  delivery_lon  \\\n",
       "0                       21      0  2020-08-01T10:54:27.698Z     88.326968   \n",
       "1                        1      0  2020-08-01T05:02:01.993Z     88.422437   \n",
       "2                       21      1  2020-08-01T09:34:33.451Z     88.280596   \n",
       "3                       24      0  2020-08-01T13:42:59.337Z     88.309393   \n",
       "4                       10      0  2020-08-01T21:18:23.947Z     88.421285   \n",
       "\n",
       "   outlet_id order_status                 status  ...  pickup_time  \\\n",
       "0          9    delivered  delivery boy assigned  ...          NaN   \n",
       "1          3    delivered  delivery boy assigned  ...          NaN   \n",
       "2          7          NaN  delivery boy assigned  ...          NaN   \n",
       "3          7    delivered  delivery boy assigned  ...          NaN   \n",
       "4          3    delivered  delivery boy assigned  ...          NaN   \n",
       "\n",
       "   approve_time reaching_time__$date arrival_time__$date  \\\n",
       "0           NaN                  NaN                 NaN   \n",
       "1           NaN                  NaN                 NaN   \n",
       "2           NaN                  NaN                 NaN   \n",
       "3           NaN                  NaN                 NaN   \n",
       "4           NaN                  NaN                 NaN   \n",
       "\n",
       "  outlet_distance_from_delivery_person assigning_lat_lon__001  \\\n",
       "0                                  NaN                    NaN   \n",
       "1                                  NaN                    NaN   \n",
       "2                                  NaN                    NaN   \n",
       "3                                  NaN                    NaN   \n",
       "4                                  NaN                    NaN   \n",
       "\n",
       "  assigning_lat_lon__002 destination_km_distance destination_journey_duration  \\\n",
       "0                    NaN                     NaN                          NaN   \n",
       "1                    NaN                     NaN                          NaN   \n",
       "2                    NaN                     NaN                          NaN   \n",
       "3                    NaN                     NaN                          NaN   \n",
       "4                    NaN                     NaN                          NaN   \n",
       "\n",
       "  total_distance_travel_for_delivery  \n",
       "0                                NaN  \n",
       "1                                NaN  \n",
       "2                                NaN  \n",
       "3                                NaN  \n",
       "4                                NaN  \n",
       "\n",
       "[5 rows x 29 columns]"
      ]
     },
     "execution_count": 10,
     "metadata": {},
     "output_type": "execute_result"
    }
   ],
   "source": [
    "#converting date to datetime object for easy analysis\n",
    "df['last_modified__$date']=pd.to_datetime(df['last_modified__$date'])\n",
    "df.head()"
   ]
  },
  {
   "cell_type": "code",
   "execution_count": 12,
   "metadata": {},
   "outputs": [
    {
     "data": {
      "text/plain": [
       "0          7\n",
       "1          1\n",
       "2          2\n",
       "3          9\n",
       "4         12\n",
       "        ... \n",
       "1452    6216\n",
       "1453    6221\n",
       "1454    6225\n",
       "1455    6228\n",
       "1456    6234\n",
       "Name: order_id, Length: 1457, dtype: int64"
      ]
     },
     "execution_count": 12,
     "metadata": {},
     "output_type": "execute_result"
    }
   ],
   "source": [
    "df.order_id"
   ]
  },
  {
   "cell_type": "code",
   "execution_count": 13,
   "metadata": {},
   "outputs": [],
   "source": [
    "#extracting the week of the data\n",
    "weeks=[]\n",
    "for i in range(0,len(df['last_modified__$date'])):\n",
    "    dt=df['last_modified__$date'][i]\n",
    "    weeks.append(dt.isocalendar()[1])\n",
    "df['week_number']=weeks"
   ]
  },
  {
   "cell_type": "code",
   "execution_count": 14,
   "metadata": {},
   "outputs": [],
   "source": [
    "#removing the null values\n",
    "df['order_status_id'].value_counts()\n",
    "#we see that the maximum rows of order status id has the value 1 so we replace the nan values with 1\n",
    "df['order_status_id']=df['order_status_id'].fillna(1)\n",
    "#df.isnull().sum()"
   ]
  },
  {
   "cell_type": "code",
   "execution_count": 16,
   "metadata": {},
   "outputs": [
    {
     "data": {
      "image/png": "[encoded data removed]",
      "text/plain": [
       "<Figure size 1080x360 with 1 Axes>"
      ]
     },
     "metadata": {
      "needs_background": "light"
     },
     "output_type": "display_data"
    }
   ],
   "source": [
    "data=[df['week_number'],df['order_id']]\n",
    "Q1 = pd.DataFrame(data=data)\n",
    "Q1=Q1.T\n",
    "weeknum=[]\n",
    "no_of_orders=[]\n",
    "for i in range(int(Q1['week_number'].iloc[0]),int(Q1['week_number'].iloc[-1])):\n",
    "    weeknum.append((i-30))\n",
    "    no_of_orders.append(int(Q1['week_number'][Q1['week_number']==i].value_counts().values))\n",
    "data=[weeknum,no_of_orders]\n",
    "Q1 = pd.DataFrame(data=data)\n",
    "Q1=Q1.T\n",
    "headers = [\"week_num\",\"No_Of_Orders\"]\n",
    "Q1.columns = headers\n",
    "#Q1.head()\n",
    "ax = Q1.plot(x=\"week_num\", y=\"No_Of_Orders\", kind=\"bar\",figsize=[15,5])\n",
    "plt.show()"
   ]
  },
  {
   "cell_type": "code",
   "execution_count": 18,
   "metadata": {},
   "outputs": [
    {
     "data": {
      "text/plain": [
       "[1, 2, 3, 4, 5, 6, 7, 8, 9, 10, 11, 12, 13, 14, 15, 16]"
      ]
     },
     "execution_count": 18,
     "metadata": {},
     "output_type": "execute_result"
    }
   ],
   "source": [
    "weeknum"
   ]
  },
  {
   "cell_type": "code",
   "execution_count": 17,
   "metadata": {},
   "outputs": [
    {
     "data": {
      "text/html": [
       "<div>\n",
       "<style scoped>\n",
       "    .dataframe tbody tr th:only-of-type {\n",
       "        vertical-align: middle;\n",
       "    }\n",
       "\n",
       "    .dataframe tbody tr th {\n",
       "        vertical-align: top;\n",
       "    }\n",
       "\n",
       "    .dataframe thead th {\n",
       "        text-align: right;\n",
       "    }\n",
       "</style>\n",
       "<table border=\"1\" class=\"dataframe\">\n",
       "  <thead>\n",
       "    <tr style=\"text-align: right;\">\n",
       "      <th></th>\n",
       "      <th>week_num</th>\n",
       "      <th>No_Of_Orders</th>\n",
       "    </tr>\n",
       "  </thead>\n",
       "  <tbody>\n",
       "    <tr>\n",
       "      <th>0</th>\n",
       "      <td>1</td>\n",
       "      <td>15</td>\n",
       "    </tr>\n",
       "    <tr>\n",
       "      <th>1</th>\n",
       "      <td>2</td>\n",
       "      <td>17</td>\n",
       "    </tr>\n",
       "    <tr>\n",
       "      <th>2</th>\n",
       "      <td>3</td>\n",
       "      <td>60</td>\n",
       "    </tr>\n",
       "    <tr>\n",
       "      <th>3</th>\n",
       "      <td>4</td>\n",
       "      <td>32</td>\n",
       "    </tr>\n",
       "    <tr>\n",
       "      <th>4</th>\n",
       "      <td>5</td>\n",
       "      <td>13</td>\n",
       "    </tr>\n",
       "  </tbody>\n",
       "</table>\n",
       "</div>"
      ],
      "text/plain": [
       "   week_num  No_Of_Orders\n",
       "0         1            15\n",
       "1         2            17\n",
       "2         3            60\n",
       "3         4            32\n",
       "4         5            13"
      ]
     },
     "execution_count": 17,
     "metadata": {},
     "output_type": "execute_result"
    }
   ],
   "source": [
    "Q1.head()"
   ]
  },
  {
   "cell_type": "code",
   "execution_count": 13,
   "metadata": {},
   "outputs": [
    {
     "data": {
      "image/png": "[encoded data removed]",
      "text/plain": [
       "<Figure size 1080x360 with 1 Axes>"
      ]
     },
     "metadata": {
      "needs_background": "light"
     },
     "output_type": "display_data"
    }
   ],
   "source": [
    "#saving the week number and order status in a different data frame\n",
    "data=[df['week_number'],df['order_status_id']]\n",
    "Q2 = pd.DataFrame(data=data)\n",
    "Q2=Q2.T\n",
    "Q2['is-Delivered']=Q2['order_status_id'].apply(lambda x:'Delivered' if x==6 else 'Not-Delivered')\n",
    "#Q2['is-Delivered'].value_counts()\n",
    "#counting the number of items delivered vs not delivered per week\n",
    "delivered=[]\n",
    "weeknum=[]\n",
    "notdelivered=[]\n",
    "for i in range(int(Q2['week_number'].iloc[0]),int(Q2['week_number'].iloc[-1])):\n",
    "    weeknum.append((i-30))\n",
    "    delivered.append(Q2['is-Delivered'][Q2['week_number']==i].value_counts()['Delivered'])\n",
    "    notdelivered.append(Q2['is-Delivered'][Q2['week_number']==i].value_counts()['Not-Delivered'])\n",
    "data=[weeknum,delivered,notdelivered]\n",
    "Q2 = pd.DataFrame(data=data)\n",
    "Q2=Q2.T\n",
    "headers = [\"week_num\",\"Delivered\",\"Not_delivered\"]\n",
    "Q2.columns = headers\n",
    "#Q2.head()\n",
    "ax = Q2.plot(x=\"week_num\", y=\"Delivered\", kind=\"bar\",figsize=[15,5])\n",
    "Q2.plot(x=\"week_num\", y=\"Not_delivered\", kind=\"bar\", ax=ax, color=\"C2\")\n",
    "plt.show()"
   ]
  },
  {
   "cell_type": "code",
   "execution_count": 17,
   "metadata": {},
   "outputs": [
    {
     "name": "stdout",
     "output_type": "stream",
     "text": [
      "380\n",
      "-49.39736842105263\n"
     ]
    }
   ],
   "source": [
    "data=[df['eta'],df['time_of_delivery']]\n",
    "Q5 = pd.DataFrame(data=data)\n",
    "Q5=Q5.T\n",
    "Q5['eta']=Q5['eta'].fillna(\"null\")\n",
    "Q5['time_of_delivery']=pd.to_datetime(Q5['time_of_delivery'])\n",
    "Q5['time_of_delivery']=Q5['time_of_delivery'].fillna(\"null\")\n",
    "Ehr=0\n",
    "ETD=[]\n",
    "timediff=[]\n",
    "length=0\n",
    "for i in range(0,len(df['time_of_delivery'])):\n",
    "    if(Q5['eta'][i] != \"null\" and Q5['time_of_delivery'][i] != \"null\"):\n",
    "        Arr_T=Q5['time_of_delivery'][i].time()\n",
    "        ETD=Q5['eta'][i].split(':')\n",
    "        if(ETD[1].split()[1]=='PM'):\n",
    "            Ehr=int(ETD[0])+12\n",
    "        diff = (int(Arr_T.hour)*60+int(Arr_T.minute))-((Ehr*60)+int(ETD[1].split()[0]))\n",
    "        timediff.append(diff)\n",
    "        length+=1\n",
    "#print(diff/length)\n",
    "print(length)\n",
    "print(sum(timediff)/length)"
   ]
  },
  {
   "cell_type": "code",
   "execution_count": null,
   "metadata": {},
   "outputs": [],
   "source": []
  },
  {
   "cell_type": "code",
   "execution_count": null,
   "metadata": {},
   "outputs": [],
   "source": []
  }
 ],
 "metadata": {
  "kernelspec": {
   "display_name": "Python 3",
   "language": "python",
   "name": "python3"
  },
  "language_info": {
   "codemirror_mode": {
    "name": "ipython",
    "version": 3
   },
   "file_extension": ".py",
   "mimetype": "text/x-python",
   "name": "python",
   "nbconvert_exporter": "python",
   "pygments_lexer": "ipython3",
   "version": "3.8.3"
  }
 },
 "nbformat": 4,
 "nbformat_minor": 4
}
